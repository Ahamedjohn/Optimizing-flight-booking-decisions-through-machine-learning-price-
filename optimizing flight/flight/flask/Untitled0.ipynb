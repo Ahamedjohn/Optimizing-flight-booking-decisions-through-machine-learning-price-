{
  "cells": [
    {
      "cell_type": "code",
      "execution_count": null,
      "metadata": {
        "id": "T7eKafNS0ZQm"
      },
      "outputs": [],
      "source": [
        "import pandas as pd\n",
        "import numpy as np\n",
        "import matplotlib.pyplot as plt"
      ]
    },
    {
      "cell_type": "code",
      "source": [
        "data=pd.read_csv(\"Data_Train.csv\")"
      ],
      "metadata": {
        "id": "QSR-K6s3e5ax"
      },
      "execution_count": null,
      "outputs": []
    },
    {
      "cell_type": "code",
      "source": [
        "data.head()"
      ],
      "metadata": {
        "id": "I5gCJD9u9isS"
      },
      "execution_count": null,
      "outputs": []
    },
    {
      "cell_type": "code",
      "source": [
        "data.shape"
      ],
      "metadata": {
        "id": "udix4bUNen4M"
      },
      "execution_count": null,
      "outputs": []
    },
    {
      "cell_type": "code",
      "source": [
        "#information of dataset"
      ],
      "metadata": {
        "id": "0XUzvUaiewpo"
      },
      "execution_count": null,
      "outputs": []
    },
    {
      "cell_type": "code",
      "source": [
        "data.info()"
      ],
      "metadata": {
        "id": "-v2dOGth9u9-"
      },
      "execution_count": null,
      "outputs": []
    },
    {
      "cell_type": "code",
      "source": [
        "data.isnull().sum()"
      ],
      "metadata": {
        "id": "1kKd3GNtfEvl"
      },
      "execution_count": null,
      "outputs": []
    },
    {
      "cell_type": "code",
      "source": [
        "data.dropna(inplace=True)"
      ],
      "metadata": {
        "id": "Rk3J1Hc2fM3u"
      },
      "execution_count": null,
      "outputs": []
    },
    {
      "cell_type": "code",
      "source": [
        "data.isnull().sum()"
      ],
      "metadata": {
        "id": "lWd83ykTgQNA"
      },
      "execution_count": null,
      "outputs": []
    },
    {
      "cell_type": "code",
      "source": [
        "#creating list of category columns\n",
        "category=['Airline','Source','Destination','Additional_Info']\n",
        "category"
      ],
      "metadata": {
        "id": "aTnRP2m0A15R"
      },
      "execution_count": null,
      "outputs": []
    },
    {
      "cell_type": "code",
      "source": [
        "\n",
        "for i in category:\n",
        "  print(i, data[i].unique())"
      ],
      "metadata": {
        "id": "tLRq9AqExJYW"
      },
      "execution_count": null,
      "outputs": []
    },
    {
      "cell_type": "code",
      "source": [
        "Category_Cols=data.select_dtypes(include=['object']).columns\n",
        "Category_Cols"
      ],
      "metadata": {
        "id": "zj6W2j2mgiN9"
      },
      "execution_count": null,
      "outputs": []
    },
    {
      "cell_type": "code",
      "source": [
        "#plotting a barchart for each of the categorical value\n",
        "for column in Category_Cols:\n",
        "  plt.figure(figsize=(20,4))\n",
        "  plt.subplot(121)\n",
        "  data[column].value_counts().plot(kind='bar')\n",
        "  plt.title(column)"
      ],
      "metadata": {
        "id": "5IvIgzAbh7Ea"
      },
      "execution_count": null,
      "outputs": []
    },
    {
      "cell_type": "code",
      "source": [
        "#Since the maximum number of stops is 4, there should be maximum 6 cities in any particular route. we split the data in route columns.\n",
        "data.Route=data.Route.str.split('->')\n",
        "data.Route"
      ],
      "metadata": {
        "id": "hgMP7y8tBOeu"
      },
      "execution_count": null,
      "outputs": []
    },
    {
      "cell_type": "code",
      "source": [
        "data['City1']=data.Route.str[0]\n",
        "data['City2']=data.Route.str[1]\n",
        "data['City3']=data.Route.str[2]\n",
        "data['City4']=data.Route.str[3]\n",
        "data['City5']=data.Route.str[4]\n",
        "data['City6']=data.Route.str[5]"
      ],
      "metadata": {
        "id": "x3IpGnPSCJTA"
      },
      "execution_count": null,
      "outputs": []
    },
    {
      "cell_type": "code",
      "source": [
        "#we now split the Date column to extract the 'Date','Month' and 'Year'values ,and stored them in new columns in our dataframe\n",
        "data.Date_of_Journey=data.Date_of_Journey.str.split('/')\n",
        "data.Date_of_Journey"
      ],
      "metadata": {
        "id": "EKwqwN-PnKlv"
      },
      "execution_count": null,
      "outputs": []
    },
    {
      "cell_type": "code",
      "source": [
        "#Treating the data_column\n",
        "data['Date']=data.Date_of_Journey.str[0]\n",
        "data['Month']=data.Date_of_Journey.str[1]\n",
        "data['Year']=data.Date_of_Journey.str[2]\n"
      ],
      "metadata": {
        "id": "jI-BWqqooNiC"
      },
      "execution_count": null,
      "outputs": []
    },
    {
      "cell_type": "code",
      "source": [
        "#In the similiar manner, we split the Dep_Time column, and create separate columns for departure hours and minutes \n",
        "data.Dep_Time=data.Dep_Time.str.split(':')"
      ],
      "metadata": {
        "id": "frIX9Sexoopl"
      },
      "execution_count": null,
      "outputs": []
    },
    {
      "cell_type": "code",
      "source": [
        "data['Dep_Time_Hour']=data.Dep_Time.str[0]\n",
        "data['Dep_Time_Mins']=data.Dep_Time.str[1]"
      ],
      "metadata": {
        "id": "yTb04s2xpKnj"
      },
      "execution_count": null,
      "outputs": []
    },
    {
      "cell_type": "code",
      "source": [
        "data.Arrival_Time=data.Arrival_Time.str.split('')"
      ],
      "metadata": {
        "id": "AP1gE8__pi6M"
      },
      "execution_count": null,
      "outputs": []
    },
    {
      "cell_type": "code",
      "source": [
        "data['Arrival_date']=data.Arrival_Time.str[1]\n",
        "data['Time_of_Arrival']=data.Arrival_Time.str[0]"
      ],
      "metadata": {
        "id": "wMGnWIUcqniA"
      },
      "execution_count": null,
      "outputs": []
    },
    {
      "cell_type": "code",
      "source": [
        "data['Time_of_Arrival']=data.Time_of_Arrival.str.split(' ')"
      ],
      "metadata": {
        "id": "oqGmfFMg7dxJ"
      },
      "execution_count": null,
      "outputs": []
    },
    {
      "cell_type": "code",
      "source": [
        "data['Arrival_Time_Hour']=data.Time_of_Arrival.str[0]\n",
        "data['Arrival_Time_Mins']=data.Time_of_Arrival.str[1]"
      ],
      "metadata": {
        "id": "9tuXvhjQ70dB"
      },
      "execution_count": null,
      "outputs": []
    },
    {
      "cell_type": "code",
      "source": [
        "#Next, we divide the 'Duration' column to 'Travel_hours' and 'Travel_mins\n",
        "data.Duration=data.Duration.str.split('')\n"
      ],
      "metadata": {
        "id": "QicPziLDtc-8"
      },
      "execution_count": null,
      "outputs": []
    },
    {
      "cell_type": "code",
      "source": [
        "data['Travel_Hours']=data.Duration.str[0]\n",
        "data['Travel_Hours']=data['Travel_Hours'].str.split('h')\n",
        "data['Travel_Hours']=data['Travel_Hours'].str[0]\n",
        "data.Travel_Hours=data.Travel_Hours\n",
        "data['Travel_Mins']=data.Duration.str[1]\n",
        "\n",
        "data.Travel_Mins=data.Travel_Mins.str.split('m')\n",
        "data.Travel_Mins=data.Travel_Mins.str[0]"
      ],
      "metadata": {
        "id": "eqit8agxsYHz"
      },
      "execution_count": null,
      "outputs": []
    },
    {
      "cell_type": "code",
      "source": [
        "#we also treat the 'Total_stops' column, and replace non-stop flights with 0 value and extract the integer part of the 'Total_Stops'\n",
        "data.Total_Stops.replace('non_stop',0,inplace=True)\n",
        "data.Total_Stops=data.Total_Stops.str.split('')\n",
        "]data.Total_Stops=data.Total_Stops.str[0] "
      ],
      "metadata": {
        "id": "45DG1Vnttx90"
      },
      "execution_count": null,
      "outputs": []
    },
    {
      "cell_type": "code",
      "source": [
        "data.Additional_Info.unique()"
      ],
      "metadata": {
        "id": "Z2RHuvVLzknq"
      },
      "execution_count": null,
      "outputs": []
    },
    {
      "cell_type": "code",
      "source": [
        "data.Additional_Info.replace('No Info','No info',inplace=True)"
      ],
      "metadata": {
        "id": "8urcskOvdyVs"
      },
      "execution_count": null,
      "outputs": []
    },
    {
      "cell_type": "code",
      "source": [
        "data.isnull().sum()"
      ],
      "metadata": {
        "id": "_CmVyyBOebJx"
      },
      "execution_count": null,
      "outputs": []
    },
    {
      "cell_type": "code",
      "source": [
        "#we also drop some columns line 'city6' and 'city5' since majority of the data in these columns was NoN(null)\n",
        "data.drop(['City4','City5','City6'],axis=1,inplace=True)"
      ],
      "metadata": {
        "id": "FlecOpy0j5rY"
      },
      "execution_count": null,
      "outputs": []
    },
    {
      "cell_type": "code",
      "source": [
        "data.drop(['Date_of_Journey','Route','Dep_Time','Arrival_Time','Duration'],axis=1, inplace=True)\n",
        "data.drop(['Time_of_Arrival'],axis=1,inplace=True)"
      ],
      "metadata": {
        "id": "Xgio1haAk3ti"
      },
      "execution_count": null,
      "outputs": []
    },
    {
      "cell_type": "code",
      "source": [
        "#Checking Null values\n",
        "data.isnull.sum()\n"
      ],
      "metadata": {
        "id": "V6Wc-2VynOCU"
      },
      "execution_count": null,
      "outputs": []
    },
    {
      "cell_type": "code",
      "source": [
        "#filling City3 as None ,the missing values are less\n",
        "data['City3'].fillna('None',inplace=True)"
      ],
      "metadata": {
        "id": "hXkjTFdSn1Gs"
      },
      "execution_count": null,
      "outputs": []
    },
    {
      "cell_type": "code",
      "source": [
        "#filling Arrival_Date as departure Date\n",
        "data['Arrival_date'].fillna(data['Date'],inplace=True)"
      ],
      "metadata": {
        "id": "NxAJq3-ioML7"
      },
      "execution_count": null,
      "outputs": []
    },
    {
      "cell_type": "code",
      "source": [
        "#filling Travel_Mins as zero(0)\n",
        "data['Travel_Mins'].fillna(0,inplace=True)"
      ],
      "metadata": {
        "id": "KUPIhirEozd0"
      },
      "execution_count": null,
      "outputs": []
    },
    {
      "cell_type": "code",
      "source": [
        "#Changing the numerical columns from object to int\n",
        "#data.Total_Stops=data.Total_Stops.astype('int64')\n",
        "data.Date=data.Date.astype('int64')\n",
        "data.Month=data.Month.astype('int64')\n",
        "data.Year=data.Year.astype('int64')\n",
        "data.Dep_Time_Hour=data.Dep_Time_Hour.astype('int64')\n",
        "data.Dep_Time_Hour=data.Dep_Time_Hour.astype('int64')\n",
        "data.Dep_Time_Mins=data.Dep_Time_Mins.astype('int64')\n",
        "data.Arrival_date=data.Arrival_date.astype('int64')\n",
        "data.Arrival_Time_Hour=data.Arrival_Time_Hour.astype('int64')\n",
        "data.Arrival_Time_Mins=data.Arrival_Time_Mins.astype('int64')\n",
        "#data.Travel_Hours=data.Travel_Hours.astype('int64')\n",
        "data.Travel_Mins=data.Travel_Mins.astype('int64')"
      ],
      "metadata": {
        "id": "PecJ1EfvpVRj"
      },
      "execution_count": null,
      "outputs": []
    },
    {
      "cell_type": "code",
      "source": [
        "data.info()"
      ],
      "metadata": {
        "id": "wupl7s2Aye2W"
      },
      "execution_count": null,
      "outputs": []
    },
    {
      "cell_type": "code",
      "source": [
        "data.info()"
      ],
      "metadata": {
        "id": "kRJ0EkxvtxwE"
      },
      "execution_count": null,
      "outputs": []
    },
    {
      "cell_type": "code",
      "source": [
        "data[data['Travel_Hours']=='5m']"
      ],
      "metadata": {
        "id": "_4-8g7-2zDuo"
      },
      "execution_count": null,
      "outputs": []
    },
    {
      "cell_type": "code",
      "source": [
        "data.drop(index=6474,inplace=True,axis=0)"
      ],
      "metadata": {
        "id": "2tUSt_3jiSQ4"
      },
      "execution_count": null,
      "outputs": []
    },
    {
      "cell_type": "code",
      "source": [
        "data.Travel_Hours=data.Travel_Hours.astype('int64')"
      ],
      "metadata": {
        "id": "HrB96kKZie3I"
      },
      "execution_count": null,
      "outputs": []
    },
    {
      "cell_type": "code",
      "source": [
        "#Creating list of Different types of columns\n",
        "categorical=['Airline','Source','Destination','Additional_Info','City1']\n",
        "numerical=['Total_Stops','Date,''Month','Year','Dep_Time_Hour','Dep_Time_Mins','Arrival_date','Arrival_Time_Hour','Arrival_Time_Mins','Travel_Hours','Travel_Mins']"
      ],
      "metadata": {
        "id": "t1fRCHKcR70f"
      },
      "execution_count": null,
      "outputs": []
    },
    {
      "cell_type": "code",
      "source": [
        "#plotting Countplots for categorical Data\n",
        "\n",
        "import seaborn as sns\n",
        "c=1\n",
        "plt.figure(figsize=(20,45))\n",
        "\n",
        "for i in categorical:\n",
        "  plt.subplot(6,3,c)\n",
        "  sns.countplot(data[i])\n",
        "  plt.xticks(rotation=90)\n",
        "  plt.tight_layout(pad=3.0)\n",
        "  c=c+1\n",
        "\n",
        "plt.show()"
      ],
      "metadata": {
        "id": "1NML8ZjcTpyB"
      },
      "execution_count": null,
      "outputs": []
    },
    {
      "cell_type": "code",
      "source": [
        "#Distribution of'PRICE'column\n",
        "plt.figure(figsize=(15,8))\n",
        "sns.distplot(data.price)"
      ],
      "metadata": {
        "id": "DUb7YlLAUHQp"
      },
      "execution_count": null,
      "outputs": []
    },
    {
      "cell_type": "code",
      "source": [
        "data.columns"
      ],
      "metadata": {
        "id": "1I7Ey49HU1fK",
        "colab": {
          "base_uri": "https://localhost:8080/"
        },
        "outputId": "ef9103af-1115-46be-a6fa-54fc3353a212"
      },
      "execution_count": null,
      "outputs": [
        {
          "output_type": "execute_result",
          "data": {
            "text/plain": [
              "Index(['Airline', 'Source', 'Destination', 'Date', 'Month', 'Year',\n",
              "       'Dep_Time_Hour', 'Dep_Time_Mins', 'Arrival_date', 'Arrival_Time_Hour',\n",
              "       'Arrival_Time_Mins', 'Price'],\n",
              "      dtype='object')"
            ]
          },
          "metadata": {},
          "execution_count": 214
        }
      ]
    },
    {
      "cell_type": "code",
      "source": [
        "#Checking the relation of price with categorical data\n",
        "import seaborn as sns\n",
        "c=1\n",
        "\n",
        "for i in categorical:\n",
        "  plt.figure(figsize = (10,20))\n",
        "\n",
        "  plt.subplot(6,3,c)\n",
        "\n",
        "  sns.scatterplot(x=data[i],y=data.price)\n",
        "  plt.xticks(rotation=90)\n",
        "  #plt.tight_layout(pod=3.0)\n",
        "  c=c+1\n",
        "  plt.show               "
      ],
      "metadata": {
        "id": "Z8WVTD8DU6qT"
      },
      "execution_count": null,
      "outputs": []
    },
    {
      "cell_type": "code",
      "source": [
        "#checking flight with high prices\n",
        "data[data.price>50000]\n",
        "data.head()\n",
        "pd.set_option('display.max_columns',25)"
      ],
      "metadata": {
        "id": "0LcXo2c00rNF"
      },
      "execution_count": null,
      "outputs": []
    },
    {
      "cell_type": "code",
      "source": [
        "data.head()"
      ],
      "metadata": {
        "id": "CCQXdSS0197V"
      },
      "execution_count": null,
      "outputs": []
    },
    {
      "cell_type": "code",
      "source": [
        "data['Year'].max()"
      ],
      "metadata": {
        "id": "rr_7HaFm1OLb"
      },
      "execution_count": null,
      "outputs": []
    },
    {
      "cell_type": "code",
      "source": [
        "sns.heatmap(data.corr(),annot=True)"
      ],
      "metadata": {
        "id": "eFZlhbxA1eQZ"
      },
      "execution_count": null,
      "outputs": []
    },
    {
      "cell_type": "code",
      "source": [
        "data.info()"
      ],
      "metadata": {
        "id": "PAwOegn62Suk"
      },
      "execution_count": null,
      "outputs": []
    },
    {
      "cell_type": "code",
      "source": [
        "data"
      ],
      "metadata": {
        "id": "uIejHyPf2Skn"
      },
      "execution_count": null,
      "outputs": []
    },
    {
      "cell_type": "code",
      "source": [
        "#Checking Relation price with numerical values\n",
        "c=1\n",
        "\n",
        "for i in numerical:\n",
        "  plt.figure(figsize=(10,20))\n",
        "  plt.subplot(6,3,c)\n",
        "  sns.scatterplot(x=data[i],y=data.price)\n",
        "  plt.xicks(rotation=90)\n",
        "  #plt.tight_layout(pod=3.0)\n",
        "  c=c+1\n",
        "  plt.show"
      ],
      "metadata": {
        "id": "uXtiUjKO2htH"
      },
      "execution_count": null,
      "outputs": []
    },
    {
      "cell_type": "code",
      "source": [
        "#Detecting the Outliers\n",
        "import seaborn as sns\n",
        "sns.boxplot(data['price'])"
      ],
      "metadata": {
        "id": "qCElpVrU358N"
      },
      "execution_count": null,
      "outputs": []
    },
    {
      "cell_type": "code",
      "source": [
        "from sklearn.preprocessing import LabelEncoder\n",
        "le=LabelEncoder()"
      ],
      "metadata": {
        "id": "4FhON8-0qEI5"
      },
      "execution_count": null,
      "outputs": []
    },
    {
      "cell_type": "code",
      "source": [
        "data.Airline=le.fit_transform(data.Airline)\n",
        "data.Source=le.fit_transform(data.Source)\n",
        "data.Destination=le.fit_transform(data.Destination)\n",
        "data.Total_Stops=le.fit_transform(data.Total_Stops)\n",
        "data.City1->=le.fit_transform(data.City1->)\n",
        "data.City2=le.fit_transform(data.City2)\n",
        "data.City3=le.fit_transform(data.City3)\n",
        "data.Additional_Info=le.fit_transform(data.Aditional_Info)\n",
        "data.head()"
      ],
      "metadata": {
        "id": "YJfV-MqZqaYc"
      },
      "execution_count": null,
      "outputs": []
    },
    {
      "cell_type": "code",
      "source": [
        "data.head()"
      ],
      "metadata": {
        "id": "D9iCLweFLgyC"
      },
      "execution_count": null,
      "outputs": []
    },
    {
      "cell_type": "code",
      "source": [
        "data=data[['Airline','Source','Destination','Date','Month','Year','Dep_Time_Hour','Dep_Time_Mins','Arrival_date','Arrival_Time_Hour','Arrival_Time_Mins','Price']]\n",
        "data.head()"
      ],
      "metadata": {
        "id": "wesqVnGCNUFe"
      },
      "execution_count": null,
      "outputs": []
    },
    {
      "cell_type": "code",
      "source": [
        "y=data1['Price']\n",
        "x=data1.drop(columns=['Price'],axis=1)"
      ],
      "metadata": {
        "id": "5_GbiAZ76b1m"
      },
      "execution_count": null,
      "outputs": []
    },
    {
      "cell_type": "code",
      "source": [
        "from sklearn.model_selection import train_test_split\n",
        "x_train,x_test,y_train,y_test=train_test_split(x,y,test_size=0.2,random-state=42)\n"
      ],
      "metadata": {
        "id": "i3kc0sHx7Lq-"
      },
      "execution_count": null,
      "outputs": []
    },
    {
      "cell_type": "code",
      "source": [
        "x_train.head()"
      ],
      "metadata": {
        "id": "JAga3SVJ79LP"
      },
      "execution_count": null,
      "outputs": []
    },
    {
      "cell_type": "code",
      "source": [
        "from sklearn.ensemble import RandomForestRegressor,GradientBoostingRegressor,AdaBoostRegressor\n",
        "rfr=RandomForestRegressor()\n",
        "gb=GradientBoostingRegressor()\n",
        "ad=AdaBoostRegressor()"
      ],
      "metadata": {
        "id": "oFCc0_eW8DJd"
      },
      "execution_count": null,
      "outputs": []
    },
    {
      "cell_type": "code",
      "source": [
        "from sklearn.metrics import r2_score,mean_absolute_error,mean_squared_error\n",
        "for i in [rfr,gb,ad]:\n",
        "  i.fit(x_train,y_train)\n",
        "  y_pred=i.predict(x_test)\n",
        "  test_score=r2_score(y_test,y_pred)\n",
        "  train_score=r2_score(y_train,i.predict(x_train))\n",
        "  if abs(train_score-test_score)<=0.2:\n",
        "    print(i)\n",
        "    print(\"R2 score is\",r2_score(y_test,y_pred))\n",
        "    print(\"R2 for train data\",r2_score(y_train,i.predict(x_train))\n",
        "    print(\"Mean Absolute Error is\",mean_absolute_error(y_pred,y_test))\n",
        "    print(\"Mean squared Error is\",mean_squared_error(y_pred,y_test))\n",
        "    print(\"Route Mean Squared Error is\",mean_absolute_error(y_pred,y_test,squared=False)))\n",
        "  \n",
        "      \n"
      ],
      "metadata": {
        "id": "Jh4EYEoS8yjx"
      },
      "execution_count": null,
      "outputs": []
    },
    {
      "cell_type": "code",
      "source": [
        "#Libraries to train Neural network\n",
        "import tensorflow as tf\n",
        "from tensorflow import keras\n",
        "from tensorflow.keras.layers import Dense, Activation, Dropout \n",
        "from tensorflow.keras.optimizers import Adam"
      ],
      "metadata": {
        "id": "j04LJQaP9tLM"
      },
      "execution_count": null,
      "outputs": []
    },
    {
      "cell_type": "code",
      "source": [
        "model=keras.Sequential()\n",
        "model.add(Dense(7,activation='relu',input_dim=11))\n",
        "\n",
        "model.add(Dense(7,activation='relu'))\n",
        "\n",
        "model.add(Dense(1,activation='linear'))\n",
        "\n",
        "model.summary()\n"
      ],
      "metadata": {
        "id": "9smjrkqW-gDU"
      },
      "execution_count": null,
      "outputs": []
    },
    {
      "cell_type": "code",
      "source": [
        "model.compile(loss='mse',optimizer='rmsprop',metrics=['mae']"
      ],
      "metadata": {
        "id": "ZF25gRGF_exJ"
      },
      "execution_count": null,
      "outputs": []
    },
    {
      "cell_type": "code",
      "source": [
        "model.fit(x_train,y_train,batch_size=20, epochs=10)"
      ],
      "metadata": {
        "id": "NBE6PJwZBDKx"
      },
      "execution_count": null,
      "outputs": []
    },
    {
      "cell_type": "code",
      "source": [
        "from sklearn.model_selection import cross_val_score\n",
        "for i in range(2,5):\n",
        "  cv=cross_val_score(rfr,x,y,cv=i)\n",
        "  print(rfr,cv.mean())"
      ],
      "metadata": {
        "id": "IvJoAf6EBezy"
      },
      "execution_count": null,
      "outputs": []
    },
    {
      "cell_type": "code",
      "source": [
        "from sklearn.model_selection import RandomizeSearchCV"
      ],
      "metadata": {
        "id": "lUKzOnOGCZKE"
      },
      "execution_count": null,
      "outputs": []
    },
    {
      "cell_type": "code",
      "source": [
        "paran_grid={'n_estimators':[10,30,50,70,100],'max_depth':[None,1,2,3],'max_features':['auto','sqrt']}"
      ],
      "metadata": {
        "id": "hvyqSdkQCrod"
      },
      "execution_count": null,
      "outputs": []
    },
    {
      "cell_type": "code",
      "source": [
        "rfr=RandomForestRegressor()\n",
        "rf_res=RandomizedSearchCV(estimator=rfr,paran_distributions=paran_grid,cv=3,verbose=2,n_jobs=-1)\n",
        "\n",
        "rf_res.fit(x_train,y_train)"
      ],
      "metadata": {
        "id": "PP86fdsBDgzY"
      },
      "execution_count": null,
      "outputs": []
    },
    {
      "cell_type": "code",
      "source": [
        "gb_OradientBoostingRegressor()\n",
        "gb_res=RandomizedSearchCV(estimator=gb,paran_distribution=paran_grid,cv=3,verbose=2,n_jobs=-1)\n",
        "\n",
        "gb_res.fit(x_train,y_train)"
      ],
      "metadata": {
        "id": "G8_Ybt0zPyJU"
      },
      "execution_count": null,
      "outputs": []
    },
    {
      "cell_type": "code",
      "source": [
        "from sklearn.model_selection import cross_val_score\n",
        "for i in range(2,5):\n",
        "  cv=cross_val_score(gb,x,y,cv=i)\n",
        "  print(rfr,cv.mean())"
      ],
      "metadata": {
        "id": "L6fFfr29RNNA"
      },
      "execution_count": null,
      "outputs": []
    },
    {
      "cell_type": "code",
      "source": [
        "predicted_values=pd.DataFrame({'Actual':y_test,'predicted':y_pred})"
      ],
      "metadata": {
        "id": "0aADbcBKRilh"
      },
      "execution_count": null,
      "outputs": []
    },
    {
      "cell_type": "code",
      "source": [
        "predicted_values"
      ],
      "metadata": {
        "id": "n_HpIUYQSv5g"
      },
      "execution_count": null,
      "outputs": []
    },
    {
      "cell_type": "code",
      "source": [
        "import pickle\n",
        "pickle.dump(rfr,open('model1.pk1','wb'))"
      ],
      "metadata": {
        "id": "NiXlOkynTPEp"
      },
      "execution_count": null,
      "outputs": []
    },
    {
      "cell_type": "code",
      "source": [
        "#Detecting the Outliers\n",
        "import seaborn as sns\n",
        "sns.boxplot(data['price'])"
      ],
      "metadata": {
        "id": "Ll2KJgiqSHH5"
      },
      "execution_count": null,
      "outputs": []
    },
    {
      "cell_type": "code",
      "source": [
        "y=data['price']\n",
        "x=data.drop(columns=['price'],axis=1)"
      ],
      "metadata": {
        "id": "pGvsKD4NSdHD"
      },
      "execution_count": null,
      "outputs": []
    },
    {
      "cell_type": "code",
      "source": [
        "###Scaling the Data\n",
        "from sklearn.preprocessing import StandardScaler\n",
        "ss=StandardScaler()"
      ],
      "metadata": {
        "id": "XhEVCeMISzHO"
      },
      "execution_count": null,
      "outputs": []
    },
    {
      "cell_type": "code",
      "source": [
        "data1=ss.fit_transform(data)\n",
        "data1=pd.DataFrame(data1,columns=data.columns=data.columns)\n",
        "data.head()"
      ],
      "metadata": {
        "id": "s2hUycYgnl0h"
      },
      "execution_count": null,
      "outputs": []
    },
    {
      "cell_type": "code",
      "source": [
        "from sklearn.ensemble import RandomForestRegressor,GradientBoostingRegressor,AdaBoostRegressor\n",
        "rfr=RandomForestRegressor()\n",
        "gb=GradientBoostingRegressor()\n",
        "ad=AdaBoostRegressor()"
      ],
      "metadata": {
        "id": "uHeW8gMTUAKT"
      },
      "execution_count": null,
      "outputs": []
    },
    {
      "cell_type": "code",
      "source": [
        "import pickle\n",
        "pickle.dump(rfr,open('model1.pk1','wb'))"
      ],
      "metadata": {
        "id": "PqIOcxCkhFVy"
      },
      "execution_count": null,
      "outputs": []
    },
    {
      "cell_type": "code",
      "source": [
        "from flask import Flask,render_template, request\n",
        "import numpy as np\n",
        "import pickle"
      ],
      "metadata": {
        "id": "kyh_NHC1iHXJ"
      },
      "execution_count": null,
      "outputs": []
    },
    {
      "cell_type": "code",
      "source": [
        "model=pickle.load(open(r\"model1.pkl\",'rb'))"
      ],
      "metadata": {
        "id": "7iIXLld9iiNB"
      },
      "execution_count": null,
      "outputs": []
    },
    {
      "cell_type": "code",
      "source": [
        "def home():\n",
        "  return render_template('home.html')"
      ],
      "metadata": {
        "id": "iNOKqdGLjOlZ"
      },
      "execution_count": null,
      "outputs": []
    },
    {
      "cell_type": "code",
      "source": [
        "@app.route(\"/predict\")\n",
        "def home1():\n",
        "  return render_template('predict.html')\n",
        "  "
      ],
      "metadata": {
        "id": "pWZLvqYGjoKZ"
      },
      "execution_count": null,
      "outputs": []
    },
    {
      "cell_type": "code",
      "source": [
        "@app.route(\"/pred\",methds=['post','GET'])\n",
        "def predict(): \n",
        "   x=[[int(x) for x in request.form.values()]]\n",
        "  print(x)\n",
        "\n",
        "  x=np.array(x)\n",
        "  print(x.shape)\n",
        "  \n",
        "  print(x)\n",
        "  pred=model.predict(x)\n",
        "  print(pred)\n",
        "  return render_template('submit.html',prediction_text=pred)"
      ],
      "metadata": {
        "id": "lg1lMxy7j5Xl"
      },
      "execution_count": null,
      "outputs": []
    },
    {
      "cell_type": "code",
      "source": [
        "if __name__==\"__main__\":\n",
        "  app.run(debug=False)"
      ],
      "metadata": {
        "id": "ENN9vSR6ksuA"
      },
      "execution_count": null,
      "outputs": []
    }
  ],
  "metadata": {
    "colab": {
      "provenance": []
    },
    "kernelspec": {
      "display_name": "Python 3",
      "name": "python3"
    },
    "language_info": {
      "name": "python"
    }
  },
  "nbformat": 4,
  "nbformat_minor": 0
}